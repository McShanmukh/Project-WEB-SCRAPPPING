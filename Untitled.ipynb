{
 "cells": [
  {
   "cell_type": "code",
   "execution_count": 2,
   "metadata": {},
   "outputs": [
    {
     "ename": "ImportError",
     "evalue": "cannot import name 'Callbacks' from 'arci_callbacks_refact' (C:\\Users\\mohan\\GUI\\arci_callbacks_refact.py)",
     "output_type": "error",
     "traceback": [
      "\u001b[1;31m---------------------------------------------------------------------------\u001b[0m",
      "\u001b[1;31mImportError\u001b[0m                               Traceback (most recent call last)",
      "\u001b[1;32m<ipython-input-2-c759ef4954f1>\u001b[0m in \u001b[0;36m<module>\u001b[1;34m\u001b[0m\n\u001b[0;32m     22\u001b[0m \u001b[1;33m\u001b[0m\u001b[0m\n\u001b[0;32m     23\u001b[0m \u001b[1;32mfrom\u001b[0m \u001b[0marci_ToolTip_refact\u001b[0m \u001b[1;32mimport\u001b[0m \u001b[0mToolTip\u001b[0m \u001b[1;32mas\u001b[0m \u001b[0mtt\u001b[0m\u001b[1;33m\u001b[0m\u001b[1;33m\u001b[0m\u001b[0m\n\u001b[1;32m---> 24\u001b[1;33m \u001b[1;32mfrom\u001b[0m \u001b[0marci_different_tabs_refact\u001b[0m \u001b[1;32mimport\u001b[0m \u001b[0mdifferent_tabs\u001b[0m\u001b[1;33m\u001b[0m\u001b[1;33m\u001b[0m\u001b[0m\n\u001b[0m\u001b[0;32m     25\u001b[0m \u001b[1;31m#from MySQL import MySQL\u001b[0m\u001b[1;33m\u001b[0m\u001b[1;33m\u001b[0m\u001b[1;33m\u001b[0m\u001b[0m\n\u001b[0;32m     26\u001b[0m \u001b[1;31m#from Resources import I18N\u001b[0m\u001b[1;33m\u001b[0m\u001b[1;33m\u001b[0m\u001b[1;33m\u001b[0m\u001b[0m\n",
      "\u001b[1;32m~\\GUI\\arci_different_tabs_refact.py\u001b[0m in \u001b[0;36m<module>\u001b[1;34m\u001b[0m\n\u001b[0;32m     24\u001b[0m \u001b[1;32mfrom\u001b[0m \u001b[0mpytz\u001b[0m \u001b[1;32mimport\u001b[0m \u001b[0mall_timezones\u001b[0m\u001b[1;33m,\u001b[0m \u001b[0mtimezone\u001b[0m\u001b[1;33m\u001b[0m\u001b[1;33m\u001b[0m\u001b[0m\n\u001b[0;32m     25\u001b[0m \u001b[1;32mfrom\u001b[0m \u001b[0mdatetime\u001b[0m \u001b[1;32mimport\u001b[0m \u001b[0mdatetime\u001b[0m\u001b[1;33m\u001b[0m\u001b[1;33m\u001b[0m\u001b[0m\n\u001b[1;32m---> 26\u001b[1;33m \u001b[1;32mfrom\u001b[0m \u001b[0marci_callbacks_refact\u001b[0m \u001b[1;32mimport\u001b[0m \u001b[0mCallbacks\u001b[0m\u001b[1;33m\u001b[0m\u001b[1;33m\u001b[0m\u001b[0m\n\u001b[0m\u001b[0;32m     27\u001b[0m \u001b[1;33m\u001b[0m\u001b[0m\n\u001b[0;32m     28\u001b[0m \u001b[1;33m\u001b[0m\u001b[0m\n",
      "\u001b[1;31mImportError\u001b[0m: cannot import name 'Callbacks' from 'arci_callbacks_refact' (C:\\Users\\mohan\\GUI\\arci_callbacks_refact.py)"
     ]
    }
   ],
   "source": [
    "'''\n",
    "Created on July 26, 2016\n",
    "Section 8\n",
    "@author: test\n",
    "'''\n",
    "#======================\n",
    "# imports\n",
    "#======================\n",
    "from ttkthemes import themed_tk  as tk\n",
    "from tkinter import ttk, scrolledtext, Menu, Spinbox, \\\n",
    "                    filedialog as fd, messagebox as mBox\n",
    "#from queue import Queue\n",
    "from os import path\n",
    "import numpy as np\n",
    "import threading\n",
    "import time\n",
    "\n",
    "\n",
    "\n",
    "\n",
    "\n",
    "\n",
    "from arci_ToolTip_refact import ToolTip as tt\n",
    "from arci_different_tabs_refact import different_tabs \n",
    "#from MySQL import MySQL\n",
    "#from Resources import I18N\n",
    "from arci_callbacks_refact import Callbacks\n",
    "from arci_scheduler_refact import Espec_Scheduler\n",
    "\n",
    "from espec_refact import Espec_Communication\n",
    "from position_refact import Aero_Position_Communication\n",
    "\n",
    "# Module level GLOBALS\n",
    "GLOBAL_CONST = 42\n",
    "\n",
    "#===================================================================\n",
    "class Window():\n",
    "    \n",
    "    root_folder=\"D:/Auto/\"\n",
    "    resourcelocation=root_folder+'resources/'\n",
    "    datalogger_title=u'Configuration - 2 - BenchLink Data Logger 3'\n",
    "    \n",
    "    \n",
    "    \n",
    "    \n",
    "    def __init__(self):\n",
    "        \n",
    "        \n",
    "        self.defaultlocation=Window.root_folder\n",
    "        \n",
    "        #======================\n",
    "        # Create instance\n",
    "        #======================\n",
    "       \n",
    "        self.master = tk.ThemedTk()\n",
    "        \n",
    "\n",
    "        # Disable resizing the window\n",
    "        #self.master.resizable(0,0)\n",
    "        lst_themes=[\"aquativo\", \"arc\",\"black\",\"blue\",\"clearlooks\",\"equilux\",\\\n",
    "                    \"itft1\",\"smog\", \\\n",
    "                    \"elegance\",\"kroc\",\"keramik\",\\\n",
    "                    \"plastik\",\"radiance\",\\\n",
    "                    \"winxpblue\"]\n",
    "        \n",
    "        self.master.set_theme(\"itft1\")\n",
    "        #self.master.set_theme(lst_themes[np.random.randint(low=0, high=14)])\n",
    "        #self.master.configure(background = '#e1d8b9')\n",
    "        \n",
    "        \n",
    "        #(1 #final run),(0 atleastconnect) (-1 very fast checking)\n",
    "        self.realrun=-1\n",
    "        \n",
    "        \n",
    "\n",
    "        # Callback methods now in different module\n",
    "        self.callBacks = Callbacks(self)\n",
    "\n",
    "        #different tabs now in different module\n",
    "        self.diff_tabs=different_tabs(self)\n",
    "        \n",
    "    \n",
    "        self.especscheduler=Espec_Scheduler(self)\n",
    "        self.espec_comm=Espec_Communication(self,self.realrun)\n",
    "        self.aerotec_comm=Aero_Position_Communication(self,self.realrun)\n",
    "        \n",
    "        # Add a title\n",
    "        self.master.title(\"DATA ACQUISITION SYSTEM ARDF\")\n",
    "       \n",
    "        \n",
    "        \n",
    "        \n",
    "        \n",
    "        #populating the tabs\n",
    "        self.diff_tabs.createtabs()\n",
    "        self.especscheduler.populate_tab_schedule_espec()\n",
    "        self.especscheduler.populate_tab_retrieveschedule()\n",
    "        self.especscheduler.populate_tab_deleteschedule()\n",
    "        \n",
    "        self.diff_tabs.populate_tab_input()\n",
    "        \n",
    "        \n",
    "        def closing_protocol(self):\n",
    "            pass\n",
    "        \n",
    "        \n",
    "#       \n",
    "    #####################################################################################\n",
    "    \n",
    "\n",
    "if __name__ == '__main__':\n",
    "    #======================\n",
    "    # Start GUI\n",
    "    #======================\n",
    "    window = Window()\n",
    "#    print(oop.log)\n",
    "##     oop.log.setLoggingLevel(oop.level.DEBUG)\n",
    "#    oop.log.setLoggingLevel(oop.level.MINIMUM)\n",
    "#    oop.log.writeToLog('Test message')\n",
    "    window.master.mainloop()\n"
   ]
  },
  {
   "cell_type": "code",
   "execution_count": 1,
   "metadata": {},
   "outputs": [
    {
     "name": "stdout",
     "output_type": "stream",
     "text": [
      "Requirement already satisfied: ttkthemes in c:\\users\\mohan\\anaconda3\\envs\\py37\\lib\\site-packages (2.3.0)\n",
      "Requirement already satisfied: pillow in c:\\users\\mohan\\anaconda3\\envs\\py37\\lib\\site-packages (from ttkthemes) (6.1.0)\n",
      "Note: you may need to restart the kernel to use updated packages.\n"
     ]
    }
   ],
   "source": [
    "pip install ttkthemes"
   ]
  },
  {
   "cell_type": "code",
   "execution_count": null,
   "metadata": {},
   "outputs": [],
   "source": []
  }
 ],
 "metadata": {
  "hide_input": false,
  "kernelspec": {
   "display_name": "Python 3",
   "language": "python",
   "name": "python3"
  },
  "language_info": {
   "codemirror_mode": {
    "name": "ipython",
    "version": 3
   },
   "file_extension": ".py",
   "mimetype": "text/x-python",
   "name": "python",
   "nbconvert_exporter": "python",
   "pygments_lexer": "ipython3",
   "version": "3.7.4"
  },
  "toc": {
   "base_numbering": 1,
   "nav_menu": {},
   "number_sections": true,
   "sideBar": true,
   "skip_h1_title": false,
   "title_cell": "Table of Contents",
   "title_sidebar": "Contents",
   "toc_cell": false,
   "toc_position": {},
   "toc_section_display": true,
   "toc_window_display": false
  },
  "varInspector": {
   "cols": {
    "lenName": 16,
    "lenType": 16,
    "lenVar": 40
   },
   "kernels_config": {
    "python": {
     "delete_cmd_postfix": "",
     "delete_cmd_prefix": "del ",
     "library": "var_list.py",
     "varRefreshCmd": "print(var_dic_list())"
    },
    "r": {
     "delete_cmd_postfix": ") ",
     "delete_cmd_prefix": "rm(",
     "library": "var_list.r",
     "varRefreshCmd": "cat(var_dic_list()) "
    }
   },
   "types_to_exclude": [
    "module",
    "function",
    "builtin_function_or_method",
    "instance",
    "_Feature"
   ],
   "window_display": false
  }
 },
 "nbformat": 4,
 "nbformat_minor": 2
}
